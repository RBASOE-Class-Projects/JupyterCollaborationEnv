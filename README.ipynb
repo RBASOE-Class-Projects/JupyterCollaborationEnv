{
 "cells": [
  {
   "cell_type": "markdown",
   "id": "b3718d92-2045-4fd5-bbec-9cfe6c9f25b6",
   "metadata": {},
   "source": [
    "# Jupyter Collaboration"
   ]
  },
  {
   "cell_type": "code",
   "execution_count": 1,
   "id": "8acf434b-728f-43dd-97d9-a63d40ba93a0",
   "metadata": {},
   "outputs": [
    {
     "name": "stdout",
     "output_type": "stream",
     "text": [
      "hello there Mom\n"
     ]
    }
   ],
   "source": [
    "print(\"hello there Mom\")\n"
   ]
  },
  {
   "cell_type": "code",
   "execution_count": null,
   "id": "69ddee9f-0238-4b3f-bdbb-0e3f029c7a6f",
   "metadata": {},
   "outputs": [],
   "source": []
  }
 ],
 "metadata": {
  "kernelspec": {
   "display_name": "Python 3 (ipykernel)",
   "language": "python",
   "name": "python3"
  },
  "language_info": {
   "codemirror_mode": {
    "name": "ipython",
    "version": 3
   },
   "file_extension": ".py",
   "mimetype": "text/x-python",
   "name": "python",
   "nbconvert_exporter": "python",
   "pygments_lexer": "ipython3",
   "version": "3.11.4"
  }
 },
 "nbformat": 4,
 "nbformat_minor": 5
}
